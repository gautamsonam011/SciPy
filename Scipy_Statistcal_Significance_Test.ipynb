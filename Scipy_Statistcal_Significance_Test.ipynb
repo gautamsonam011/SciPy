{
 "cells": [
  {
   "cell_type": "markdown",
   "id": "d3cab1fc-23be-4aed-a920-6254dbe85443",
   "metadata": {},
   "source": [
    "# SciPy Statistical Significance Test:- "
   ]
  },
  {
   "cell_type": "markdown",
   "id": "f8465fd1-048f-45a4-b2bb-060eef2ec9a2",
   "metadata": {},
   "source": [
    "# T-Test:- "
   ]
  },
  {
   "cell_type": "code",
   "execution_count": 1,
   "id": "e6a85a0f-f5ea-4c03-bd17-c5a3d1cba20d",
   "metadata": {},
   "outputs": [
    {
     "name": "stdout",
     "output_type": "stream",
     "text": [
      "TtestResult(statistic=0.9454901287030248, pvalue=0.34556108291682397, df=198.0)\n"
     ]
    }
   ],
   "source": [
    "# Find if the given values v1 and v2 are from same distribution:-\n",
    "\n",
    "import numpy as np\n",
    "from scipy.stats import ttest_ind\n",
    "\n",
    "v1 = np.random.normal(size = 100)\n",
    "v2 = np.random.normal(size = 100)\n",
    "\n",
    "res = ttest_ind(v1, v2)\n",
    "\n",
    "print(res)"
   ]
  },
  {
   "cell_type": "code",
   "execution_count": 2,
   "id": "6c2b6f3c-2309-4225-889a-7f66f0fcee13",
   "metadata": {},
   "outputs": [
    {
     "name": "stdout",
     "output_type": "stream",
     "text": [
      "0.34556108291682397\n"
     ]
    }
   ],
   "source": [
    "res = ttest_ind(v1, v2).pvalue\n",
    "\n",
    "print(res)"
   ]
  },
  {
   "cell_type": "markdown",
   "id": "ffac3090-7ecb-47f6-abca-687adbf09413",
   "metadata": {},
   "source": [
    "# KS-Test:-"
   ]
  },
  {
   "cell_type": "code",
   "execution_count": 3,
   "id": "392b8736-baa9-4acf-bb04-23777112bfc6",
   "metadata": {},
   "outputs": [
    {
     "name": "stdout",
     "output_type": "stream",
     "text": [
      "KstestResult(statistic=0.07056018295484534, pvalue=0.6752293509536139, statistic_location=0.07386178248219052, statistic_sign=1)\n"
     ]
    }
   ],
   "source": [
    "# Find if the given value follows the normal distribution:- \n",
    "\n",
    "from scipy.stats import kstest\n",
    "\n",
    "v = np.random.normal(size = 100)\n",
    "\n",
    "res = kstest(v, 'norm')\n",
    "\n",
    "print(res)"
   ]
  },
  {
   "cell_type": "markdown",
   "id": "7b1d65c0-aa55-4413-86da-24384535d3e7",
   "metadata": {},
   "source": [
    "# Statistical Description of Data:- "
   ]
  },
  {
   "cell_type": "code",
   "execution_count": null,
   "id": "0c6e1dc7-8fc5-4d64-a88a-a10fa5ce55ce",
   "metadata": {},
   "outputs": [],
   "source": [
    "# It returns the following description:\n",
    "\n",
    "# number of observations (nobs)\n",
    "# minimum and maximum values = minmax\n",
    "# mean\n",
    "# variance\n",
    "# skewness\n",
    "# kurtosis"
   ]
  },
  {
   "cell_type": "code",
   "execution_count": 4,
   "id": "1767990c-6915-4fc8-88f0-4f691a66a2d1",
   "metadata": {},
   "outputs": [
    {
     "name": "stdout",
     "output_type": "stream",
     "text": [
      "DescribeResult(nobs=100, minmax=(-2.1319476740549996, 1.8843636959772574), mean=-0.07420839703045448, variance=0.8183592730221693, skewness=0.02244487398635775, kurtosis=-0.5723940115621815)\n"
     ]
    }
   ],
   "source": [
    "# Show statistical description of the values in an array:- \n",
    "\n",
    "import numpy as np\n",
    "from scipy.stats import describe\n",
    "\n",
    "v = np.random.normal(size = 100)\n",
    "\n",
    "res = describe(v)\n",
    "print(res)"
   ]
  },
  {
   "cell_type": "markdown",
   "id": "5b3948f3-7c56-402f-8c9a-bddbec734751",
   "metadata": {},
   "source": [
    "# Normality Tests (Skewness and Kurtosis):-"
   ]
  },
  {
   "cell_type": "code",
   "execution_count": 5,
   "id": "a17e3313-33e8-4382-b200-d8376c2fa1a0",
   "metadata": {},
   "outputs": [
    {
     "name": "stdout",
     "output_type": "stream",
     "text": [
      "-0.03812198126122362\n",
      "-0.04866087276240805\n"
     ]
    }
   ],
   "source": [
    "# Find skewness and kurtosis of values in an array:-\n",
    "\n",
    "from scipy.stats import skew, kurtosis\n",
    "\n",
    "v = np.random.normal(size = 100)\n",
    "\n",
    "print(skew(v))\n",
    "print(kurtosis(v))"
   ]
  },
  {
   "cell_type": "code",
   "execution_count": null,
   "id": "214e3b7e-eaeb-4009-9424-c9ab4a96f3b8",
   "metadata": {},
   "outputs": [],
   "source": [
    "from scipy.stats import normaltest\n",
    "\n",
    "v = np.random.normal(size = 100)\n",
    "\n",
    "print"
   ]
  }
 ],
 "metadata": {
  "kernelspec": {
   "display_name": "Python 3 (ipykernel)",
   "language": "python",
   "name": "python3"
  },
  "language_info": {
   "codemirror_mode": {
    "name": "ipython",
    "version": 3
   },
   "file_extension": ".py",
   "mimetype": "text/x-python",
   "name": "python",
   "nbconvert_exporter": "python",
   "pygments_lexer": "ipython3",
   "version": "3.12.6"
  }
 },
 "nbformat": 4,
 "nbformat_minor": 5
}

{
 "cells": [
  {
   "cell_type": "code",
   "execution_count": 1,
   "id": "a29d5172-0cea-48f4-9182-5274b01e6993",
   "metadata": {},
   "outputs": [
    {
     "name": "stdout",
     "output_type": "stream",
     "text": [
      "3.141592653589793\n"
     ]
    }
   ],
   "source": [
    "from scipy import constants\n",
    "\n",
    "print(constants.pi)"
   ]
  },
  {
   "cell_type": "code",
   "execution_count": 2,
   "id": "57d760c2-d753-4698-b056-9315504dcd19",
   "metadata": {},
   "outputs": [
    {
     "name": "stdout",
     "output_type": "stream",
     "text": [
      "0.001\n"
     ]
    }
   ],
   "source": [
    "print(constants.liter)"
   ]
  },
  {
   "cell_type": "code",
   "execution_count": 3,
   "id": "6d1ead5c-c79e-4c54-bc5c-1fa31d2d056f",
   "metadata": {},
   "outputs": [
    {
     "name": "stdout",
     "output_type": "stream",
     "text": [
      "1.14.1\n"
     ]
    }
   ],
   "source": [
    "import scipy\n",
    "\n",
    "print(scipy.__version__)"
   ]
  },
  {
   "cell_type": "code",
   "execution_count": 4,
   "id": "03296cb9-9b5a-4496-a678-47a0851b57c8",
   "metadata": {},
   "outputs": [
    {
     "name": "stdout",
     "output_type": "stream",
     "text": [
      "['Avogadro', 'Boltzmann', 'Btu', 'Btu_IT', 'Btu_th', 'ConstantWarning', 'G', 'Julian_year', 'N_A', 'Planck', 'R', 'Rydberg', 'Stefan_Boltzmann', 'Wien', '__all__', '__builtins__', '__cached__', '__doc__', '__file__', '__loader__', '__name__', '__package__', '__path__', '__spec__', '_codata', '_constants', '_obsolete_constants', 'acre', 'alpha', 'angstrom', 'arcmin', 'arcminute', 'arcsec', 'arcsecond', 'astronomical_unit', 'atm', 'atmosphere', 'atomic_mass', 'atto', 'au', 'bar', 'barrel', 'bbl', 'blob', 'c', 'calorie', 'calorie_IT', 'calorie_th', 'carat', 'centi', 'codata', 'constants', 'convert_temperature', 'day', 'deci', 'degree', 'degree_Fahrenheit', 'deka', 'dyn', 'dyne', 'e', 'eV', 'electron_mass', 'electron_volt', 'elementary_charge', 'epsilon_0', 'erg', 'exa', 'exbi', 'femto', 'fermi', 'find', 'fine_structure', 'fluid_ounce', 'fluid_ounce_US', 'fluid_ounce_imp', 'foot', 'g', 'gallon', 'gallon_US', 'gallon_imp', 'gas_constant', 'gibi', 'giga', 'golden', 'golden_ratio', 'grain', 'gram', 'gravitational_constant', 'h', 'hbar', 'hectare', 'hecto', 'horsepower', 'hour', 'hp', 'inch', 'k', 'kgf', 'kibi', 'kilo', 'kilogram_force', 'kmh', 'knot', 'lambda2nu', 'lb', 'lbf', 'light_year', 'liter', 'litre', 'long_ton', 'm_e', 'm_n', 'm_p', 'm_u', 'mach', 'mebi', 'mega', 'metric_ton', 'micro', 'micron', 'mil', 'mile', 'milli', 'minute', 'mmHg', 'mph', 'mu_0', 'nano', 'nautical_mile', 'neutron_mass', 'nu2lambda', 'ounce', 'oz', 'parsec', 'pebi', 'peta', 'physical_constants', 'pi', 'pico', 'point', 'pound', 'pound_force', 'precision', 'proton_mass', 'psi', 'pt', 'quecto', 'quetta', 'ronna', 'ronto', 'short_ton', 'sigma', 'slinch', 'slug', 'speed_of_light', 'speed_of_sound', 'stone', 'survey_foot', 'survey_mile', 'tebi', 'tera', 'test', 'ton_TNT', 'torr', 'troy_ounce', 'troy_pound', 'u', 'unit', 'value', 'week', 'yard', 'year', 'yobi', 'yocto', 'yotta', 'zebi', 'zepto', 'zero_Celsius', 'zetta']\n"
     ]
    }
   ],
   "source": [
    "# Constant Units \n",
    "# A list of all units under the constants module can be seen using the dir() function.\n",
    "\n",
    "print(dir(constants))"
   ]
  },
  {
   "cell_type": "code",
   "execution_count": 5,
   "id": "9e5a7ee2-fb19-4624-bf3c-b7e636a87542",
   "metadata": {},
   "outputs": [
    {
     "name": "stdout",
     "output_type": "stream",
     "text": [
      "31536000.0\n"
     ]
    }
   ],
   "source": [
    "print(constants.year)"
   ]
  },
  {
   "cell_type": "code",
   "execution_count": 6,
   "id": "d1f7e072-4b15-4f42-87a0-7e977fe45ec8",
   "metadata": {},
   "outputs": [
    {
     "name": "stdout",
     "output_type": "stream",
     "text": [
      "1e+24\n"
     ]
    }
   ],
   "source": [
    "print(constants.yotta)"
   ]
  },
  {
   "cell_type": "code",
   "execution_count": 7,
   "id": "c0b7ff3a-8270-4ec0-a291-8f5a380af241",
   "metadata": {},
   "outputs": [
    {
     "name": "stdout",
     "output_type": "stream",
     "text": [
      "5.670374419e-08\n"
     ]
    }
   ],
   "source": [
    "print(constants.sigma)"
   ]
  },
  {
   "cell_type": "code",
   "execution_count": 9,
   "id": "a699f9d6-947f-4973-96f6-9a13ef223bac",
   "metadata": {},
   "outputs": [
    {
     "name": "stdout",
     "output_type": "stream",
     "text": [
      "['Avogadro', 'Boltzmann', 'Btu', 'Btu_IT', 'Btu_th', 'ConstantWarning', 'G', 'Julian_year', 'N_A', 'Planck', 'R', 'Rydberg', 'Stefan_Boltzmann', 'Wien', 'acre', 'alpha', 'angstrom', 'arcmin', 'arcminute', 'arcsec', 'arcsecond', 'astronomical_unit', 'atm', 'atmosphere', 'atomic_mass', 'atto', 'au', 'bar', 'barrel', 'bbl', 'blob', 'c', 'calorie', 'calorie_IT', 'calorie_th', 'carat', 'centi', 'codata', 'constants', 'convert_temperature', 'day', 'deci', 'degree', 'degree_Fahrenheit', 'deka', 'dyn', 'dyne', 'e', 'eV', 'electron_mass', 'electron_volt', 'elementary_charge', 'epsilon_0', 'erg', 'exa', 'exbi', 'femto', 'fermi', 'find', 'fine_structure', 'fluid_ounce', 'fluid_ounce_US', 'fluid_ounce_imp', 'foot', 'g', 'gallon', 'gallon_US', 'gallon_imp', 'gas_constant', 'gibi', 'giga', 'golden', 'golden_ratio', 'grain', 'gram', 'gravitational_constant', 'h', 'hbar', 'hectare', 'hecto', 'horsepower', 'hour', 'hp', 'inch', 'k', 'kgf', 'kibi', 'kilo', 'kilogram_force', 'kmh', 'knot', 'lambda2nu', 'lb', 'lbf', 'light_year', 'liter', 'litre', 'long_ton', 'm_e', 'm_n', 'm_p', 'm_u', 'mach', 'mebi', 'mega', 'metric_ton', 'micro', 'micron', 'mil', 'mile', 'milli', 'minute', 'mmHg', 'mph', 'mu_0', 'nano', 'nautical_mile', 'neutron_mass', 'nu2lambda', 'ounce', 'oz', 'parsec', 'pebi', 'peta', 'physical_constants', 'pi', 'pico', 'point', 'pound', 'pound_force', 'precision', 'proton_mass', 'psi', 'pt', 'quecto', 'quetta', 'ronna', 'ronto', 'short_ton', 'sigma', 'slinch', 'slug', 'speed_of_light', 'speed_of_sound', 'stone', 'survey_foot', 'survey_mile', 'tebi', 'tera', 'ton_TNT', 'torr', 'troy_ounce', 'troy_pound', 'u', 'unit', 'value', 'week', 'yard', 'year', 'yobi', 'yocto', 'yotta', 'zebi', 'zepto', 'zero_Celsius', 'zetta']\n"
     ]
    }
   ],
   "source": [
    "print(constants.__all__)"
   ]
  },
  {
   "cell_type": "markdown",
   "id": "fa0754ba-ce44-43c4-95ef-95689fefe6d6",
   "metadata": {},
   "source": [
    "# Unit Categories"
   ]
  },
  {
   "cell_type": "code",
   "execution_count": 10,
   "id": "54304c1d-19ec-42a6-8ccd-88c1bf5eff3d",
   "metadata": {},
   "outputs": [],
   "source": [
    "# The units are placed under these categories:\n",
    "\n",
    "# Metric\n",
    "# Binary\n",
    "# Mass\n",
    "# Angle\n",
    "# Time\n",
    "# Length\n",
    "# Pressure\n",
    "# Volume\n",
    "# Speed\n",
    "# Temperature\n",
    "# Energy\n",
    "# Power\n",
    "# Force"
   ]
  },
  {
   "cell_type": "markdown",
   "id": "818bb10d-6287-4d83-a33b-cca30c4b9d5c",
   "metadata": {},
   "source": [
    "# Metric (SI) Prefixes:-"
   ]
  },
  {
   "cell_type": "code",
   "execution_count": 11,
   "id": "44e6ac8f-ebcc-48a4-8634-a92f5177303d",
   "metadata": {},
   "outputs": [
    {
     "name": "stdout",
     "output_type": "stream",
     "text": [
      "1e+24\n"
     ]
    }
   ],
   "source": [
    "print(constants.yotta)"
   ]
  },
  {
   "cell_type": "code",
   "execution_count": 12,
   "id": "e260f45e-fd41-4af6-8c51-75bf55794333",
   "metadata": {},
   "outputs": [
    {
     "name": "stdout",
     "output_type": "stream",
     "text": [
      "1e+21\n"
     ]
    }
   ],
   "source": [
    "print(constants.zetta)"
   ]
  },
  {
   "cell_type": "code",
   "execution_count": 13,
   "id": "ac9b9fd0-9bbc-4d17-9872-a77c7cedb768",
   "metadata": {},
   "outputs": [
    {
     "name": "stdout",
     "output_type": "stream",
     "text": [
      "1e+18\n"
     ]
    }
   ],
   "source": [
    "print(constants.exa)"
   ]
  },
  {
   "cell_type": "code",
   "execution_count": 14,
   "id": "b30652ea-00dd-4fda-a09a-13bcaf6851e9",
   "metadata": {},
   "outputs": [
    {
     "name": "stdout",
     "output_type": "stream",
     "text": [
      "1000000000000000.0\n"
     ]
    }
   ],
   "source": [
    "print(constants.peta)"
   ]
  },
  {
   "cell_type": "code",
   "execution_count": 15,
   "id": "4a14c469-c4d4-4902-8077-2269e6302556",
   "metadata": {},
   "outputs": [
    {
     "name": "stdout",
     "output_type": "stream",
     "text": [
      "1000000000000.0\n"
     ]
    }
   ],
   "source": [
    "print(constants.tera)"
   ]
  },
  {
   "cell_type": "code",
   "execution_count": 16,
   "id": "6e0c423d-45ce-4559-9d67-72d5ccbdd716",
   "metadata": {},
   "outputs": [
    {
     "name": "stdout",
     "output_type": "stream",
     "text": [
      "1000000000.0\n"
     ]
    }
   ],
   "source": [
    "print(constants.giga)"
   ]
  },
  {
   "cell_type": "code",
   "execution_count": 17,
   "id": "96dc79b0-3576-4715-9523-b0c5cee32e0c",
   "metadata": {},
   "outputs": [
    {
     "name": "stdout",
     "output_type": "stream",
     "text": [
      "1000000.0\n"
     ]
    }
   ],
   "source": [
    "print(constants.mega)"
   ]
  },
  {
   "cell_type": "code",
   "execution_count": 18,
   "id": "3bfaad4d-c027-428d-b1c5-384afc66f6d5",
   "metadata": {},
   "outputs": [
    {
     "name": "stdout",
     "output_type": "stream",
     "text": [
      "1000.0\n"
     ]
    }
   ],
   "source": [
    "print(constants.kilo)"
   ]
  },
  {
   "cell_type": "code",
   "execution_count": 19,
   "id": "2cb13198-2021-4244-88f9-2755c6aa4f80",
   "metadata": {},
   "outputs": [
    {
     "name": "stdout",
     "output_type": "stream",
     "text": [
      "100.0\n"
     ]
    }
   ],
   "source": [
    "print(constants.hecto)"
   ]
  },
  {
   "cell_type": "code",
   "execution_count": 20,
   "id": "0de6b6f8-9ff9-4631-beaf-f77474284d29",
   "metadata": {},
   "outputs": [
    {
     "name": "stdout",
     "output_type": "stream",
     "text": [
      "10.0\n"
     ]
    }
   ],
   "source": [
    "print(constants.deka)"
   ]
  },
  {
   "cell_type": "code",
   "execution_count": 21,
   "id": "74181b71-fd67-4c6e-8d17-91910666f72f",
   "metadata": {},
   "outputs": [
    {
     "name": "stdout",
     "output_type": "stream",
     "text": [
      "0.1\n"
     ]
    }
   ],
   "source": [
    "print(constants.deci)"
   ]
  },
  {
   "cell_type": "code",
   "execution_count": 22,
   "id": "cb061dfb-fd14-485c-b072-6694d3a06987",
   "metadata": {},
   "outputs": [
    {
     "name": "stdout",
     "output_type": "stream",
     "text": [
      "0.01\n"
     ]
    }
   ],
   "source": [
    "print(constants.centi)"
   ]
  },
  {
   "cell_type": "code",
   "execution_count": 23,
   "id": "83b37f4f-5723-4e1b-bc0b-c959fe590536",
   "metadata": {},
   "outputs": [
    {
     "name": "stdout",
     "output_type": "stream",
     "text": [
      "0.001\n"
     ]
    }
   ],
   "source": [
    "print(constants.milli)"
   ]
  },
  {
   "cell_type": "code",
   "execution_count": 24,
   "id": "e1d7b023-544b-4eb4-983a-9a76d3871731",
   "metadata": {},
   "outputs": [
    {
     "name": "stdout",
     "output_type": "stream",
     "text": [
      "1e-06\n"
     ]
    }
   ],
   "source": [
    "print(constants.micro)"
   ]
  },
  {
   "cell_type": "code",
   "execution_count": 25,
   "id": "40a86668-fbe2-4a96-8549-e4437fb60808",
   "metadata": {},
   "outputs": [
    {
     "name": "stdout",
     "output_type": "stream",
     "text": [
      "1e-09\n"
     ]
    }
   ],
   "source": [
    "print(constants.nano)"
   ]
  },
  {
   "cell_type": "code",
   "execution_count": 26,
   "id": "6752f61f-428a-43c3-9f0c-cada8074e954",
   "metadata": {},
   "outputs": [
    {
     "name": "stdout",
     "output_type": "stream",
     "text": [
      "1e-12\n"
     ]
    }
   ],
   "source": [
    "print(constants.pico)"
   ]
  },
  {
   "cell_type": "code",
   "execution_count": 27,
   "id": "cb490db6-72e7-45e1-b162-0fb03e58d716",
   "metadata": {},
   "outputs": [
    {
     "name": "stdout",
     "output_type": "stream",
     "text": [
      "1e-15\n"
     ]
    }
   ],
   "source": [
    "print(constants.femto)"
   ]
  },
  {
   "cell_type": "code",
   "execution_count": 28,
   "id": "530873f1-570d-43bd-beea-560e5ab1df19",
   "metadata": {},
   "outputs": [
    {
     "name": "stdout",
     "output_type": "stream",
     "text": [
      "1e-18\n"
     ]
    }
   ],
   "source": [
    "print(constants.atto)"
   ]
  },
  {
   "cell_type": "code",
   "execution_count": 29,
   "id": "b4cb8ecd-1e49-40ec-b620-321da33ff2d0",
   "metadata": {},
   "outputs": [
    {
     "name": "stdout",
     "output_type": "stream",
     "text": [
      "1e-21\n"
     ]
    }
   ],
   "source": [
    "print(constants.zepto)"
   ]
  },
  {
   "cell_type": "markdown",
   "id": "c7909b81-43c7-4e5a-a1a7-5859b3804c6b",
   "metadata": {},
   "source": [
    "# Binary Prefixes:-"
   ]
  },
  {
   "cell_type": "code",
   "execution_count": 32,
   "id": "3fc3b9b2-af95-474b-ada0-978c573b01c6",
   "metadata": {},
   "outputs": [
    {
     "name": "stdout",
     "output_type": "stream",
     "text": [
      "1024\n"
     ]
    }
   ],
   "source": [
    "# Return the specified unit in bytes  \n",
    "\n",
    "print(constants.kibi)"
   ]
  },
  {
   "cell_type": "code",
   "execution_count": 33,
   "id": "ed083843-2290-470d-a115-c3c6fb2ac92c",
   "metadata": {},
   "outputs": [
    {
     "name": "stdout",
     "output_type": "stream",
     "text": [
      "1048576\n"
     ]
    }
   ],
   "source": [
    "print(constants.mebi)"
   ]
  },
  {
   "cell_type": "code",
   "execution_count": 34,
   "id": "75709c82-4fb6-4d86-af4f-89266aecaf5e",
   "metadata": {},
   "outputs": [
    {
     "name": "stdout",
     "output_type": "stream",
     "text": [
      "1073741824\n"
     ]
    }
   ],
   "source": [
    "print(constants.gibi)"
   ]
  },
  {
   "cell_type": "code",
   "execution_count": 35,
   "id": "b184ebaa-5513-47a5-9a95-aac23a547499",
   "metadata": {},
   "outputs": [
    {
     "name": "stdout",
     "output_type": "stream",
     "text": [
      "1099511627776\n"
     ]
    }
   ],
   "source": [
    "print(constants.tebi)"
   ]
  },
  {
   "cell_type": "code",
   "execution_count": 36,
   "id": "e56a7e29-965e-45f0-a94e-8e8bd55bfd46",
   "metadata": {},
   "outputs": [
    {
     "name": "stdout",
     "output_type": "stream",
     "text": [
      "1125899906842624\n"
     ]
    }
   ],
   "source": [
    "print(constants.pebi)"
   ]
  },
  {
   "cell_type": "code",
   "execution_count": 37,
   "id": "22d8b9c3-1cce-4c06-9649-ec505c250512",
   "metadata": {},
   "outputs": [
    {
     "name": "stdout",
     "output_type": "stream",
     "text": [
      "1152921504606846976\n"
     ]
    }
   ],
   "source": [
    "print(constants.exbi)"
   ]
  },
  {
   "cell_type": "code",
   "execution_count": 38,
   "id": "f4d63dba-391c-4898-bc9d-fb0bf48ded79",
   "metadata": {},
   "outputs": [
    {
     "name": "stdout",
     "output_type": "stream",
     "text": [
      "1180591620717411303424\n"
     ]
    }
   ],
   "source": [
    "print(constants.zebi)"
   ]
  },
  {
   "cell_type": "code",
   "execution_count": 39,
   "id": "56b463b4-dae8-4c5e-9d94-22e41a56ba41",
   "metadata": {},
   "outputs": [
    {
     "name": "stdout",
     "output_type": "stream",
     "text": [
      "1208925819614629174706176\n"
     ]
    }
   ],
   "source": [
    "print(constants.yobi)"
   ]
  },
  {
   "cell_type": "markdown",
   "id": "9dcc9887-6915-4e25-8146-14fe889e7e4d",
   "metadata": {},
   "source": [
    "# Mass:-"
   ]
  },
  {
   "cell_type": "markdown",
   "id": "be5a1ced-0010-4e7b-8d58-97c28d123395",
   "metadata": {},
   "source": [
    "Return the specified unit in kg"
   ]
  },
  {
   "cell_type": "code",
   "execution_count": 40,
   "id": "702f387b-d67f-4eb8-992c-e43ea744a224",
   "metadata": {},
   "outputs": [
    {
     "name": "stdout",
     "output_type": "stream",
     "text": [
      "0.001\n"
     ]
    }
   ],
   "source": [
    "from scipy import constants\n",
    "\n",
    "print(constants.gram)"
   ]
  },
  {
   "cell_type": "code",
   "execution_count": 41,
   "id": "68455ad6-1175-4a5b-b740-1313e60e1db3",
   "metadata": {},
   "outputs": [
    {
     "name": "stdout",
     "output_type": "stream",
     "text": [
      "1000.0\n"
     ]
    }
   ],
   "source": [
    "print(constants.metric_ton)"
   ]
  },
  {
   "cell_type": "code",
   "execution_count": 42,
   "id": "046fe004-d557-4f50-8b36-cf65d9a3fde7",
   "metadata": {},
   "outputs": [
    {
     "name": "stdout",
     "output_type": "stream",
     "text": [
      "6.479891e-05\n"
     ]
    }
   ],
   "source": [
    "print(constants.grain)"
   ]
  },
  {
   "cell_type": "code",
   "execution_count": 43,
   "id": "78a0eb69-a715-4dca-aecf-327effdf51c0",
   "metadata": {},
   "outputs": [
    {
     "name": "stdout",
     "output_type": "stream",
     "text": [
      "0.45359236999999997\n"
     ]
    }
   ],
   "source": [
    "print(constants.lb)"
   ]
  },
  {
   "cell_type": "code",
   "execution_count": 44,
   "id": "fa0920cd-7fbe-49a9-aaf1-731c7f1571e1",
   "metadata": {},
   "outputs": [
    {
     "name": "stdout",
     "output_type": "stream",
     "text": [
      "0.45359236999999997\n"
     ]
    }
   ],
   "source": [
    "print(constants.pound)"
   ]
  },
  {
   "cell_type": "code",
   "execution_count": 45,
   "id": "56347474-5a02-4c6a-a031-1a2daa396bbd",
   "metadata": {},
   "outputs": [
    {
     "name": "stdout",
     "output_type": "stream",
     "text": [
      "0.028349523124999998\n"
     ]
    }
   ],
   "source": [
    "print(constants.oz)"
   ]
  },
  {
   "cell_type": "code",
   "execution_count": 46,
   "id": "e5996565-1785-4b4e-9fce-5a144eee9698",
   "metadata": {},
   "outputs": [
    {
     "name": "stdout",
     "output_type": "stream",
     "text": [
      "0.028349523124999998\n"
     ]
    }
   ],
   "source": [
    "print(constants.ounce)"
   ]
  },
  {
   "cell_type": "code",
   "execution_count": 47,
   "id": "02adb2d2-a5b0-44b0-85bd-3562205fb7c3",
   "metadata": {},
   "outputs": [
    {
     "name": "stdout",
     "output_type": "stream",
     "text": [
      "6.3502931799999995\n"
     ]
    }
   ],
   "source": [
    "print(constants.stone)"
   ]
  },
  {
   "cell_type": "code",
   "execution_count": 48,
   "id": "5efa33fe-418b-4fcc-960c-587480ef2475",
   "metadata": {},
   "outputs": [
    {
     "name": "stdout",
     "output_type": "stream",
     "text": [
      "1016.0469088\n"
     ]
    }
   ],
   "source": [
    "print(constants.long_ton)"
   ]
  },
  {
   "cell_type": "code",
   "execution_count": 49,
   "id": "8f8291dc-dcb3-4a46-9276-eed8fb48466f",
   "metadata": {},
   "outputs": [
    {
     "name": "stdout",
     "output_type": "stream",
     "text": [
      "907.1847399999999\n"
     ]
    }
   ],
   "source": [
    "print(constants.short_ton)"
   ]
  },
  {
   "cell_type": "code",
   "execution_count": 50,
   "id": "c852be0c-696a-435a-a9bb-236d45ee1b3e",
   "metadata": {},
   "outputs": [
    {
     "name": "stdout",
     "output_type": "stream",
     "text": [
      "0.031103476799999998\n"
     ]
    }
   ],
   "source": [
    "print(constants.troy_ounce)"
   ]
  },
  {
   "cell_type": "code",
   "execution_count": 51,
   "id": "bcfc5f74-8800-445d-9fb6-c1884b3421d9",
   "metadata": {},
   "outputs": [
    {
     "name": "stdout",
     "output_type": "stream",
     "text": [
      "0.37324172159999996\n"
     ]
    }
   ],
   "source": [
    "print(constants.troy_pound)"
   ]
  },
  {
   "cell_type": "code",
   "execution_count": 52,
   "id": "aa445f4d-23c3-40db-83df-a06363ab1c85",
   "metadata": {},
   "outputs": [
    {
     "name": "stdout",
     "output_type": "stream",
     "text": [
      "0.0002\n"
     ]
    }
   ],
   "source": [
    "print(constants.carat)"
   ]
  },
  {
   "cell_type": "code",
   "execution_count": 53,
   "id": "64eb284b-5386-45d6-aefd-9c3582be533c",
   "metadata": {},
   "outputs": [
    {
     "name": "stdout",
     "output_type": "stream",
     "text": [
      "1.6605390666e-27\n"
     ]
    }
   ],
   "source": [
    "print(constants.atomic_mass)"
   ]
  },
  {
   "cell_type": "code",
   "execution_count": 54,
   "id": "3581db18-2d2c-4ca3-9d9b-07a4709051fc",
   "metadata": {},
   "outputs": [
    {
     "name": "stdout",
     "output_type": "stream",
     "text": [
      "1.6605390666e-27\n"
     ]
    }
   ],
   "source": [
    "print(constants.m_u)"
   ]
  },
  {
   "cell_type": "code",
   "execution_count": 55,
   "id": "1fc01bcc-83c3-43b6-a67d-ea35e093aba1",
   "metadata": {},
   "outputs": [
    {
     "name": "stdout",
     "output_type": "stream",
     "text": [
      "1.6605390666e-27\n"
     ]
    }
   ],
   "source": [
    "print(constants.u)"
   ]
  },
  {
   "cell_type": "markdown",
   "id": "f38573fa-2c0d-4c74-9d08-bb889032624a",
   "metadata": {},
   "source": [
    "# Angle:-"
   ]
  },
  {
   "cell_type": "code",
   "execution_count": 56,
   "id": "4e4b22fa-66b6-4cdc-a312-0ab209c6c558",
   "metadata": {},
   "outputs": [
    {
     "name": "stdout",
     "output_type": "stream",
     "text": [
      "0.017453292519943295\n"
     ]
    }
   ],
   "source": [
    "# Return the specified unit in radians (e.g. degree returns 0.017453292519943295)\n",
    "\n",
    "print(constants.degree)"
   ]
  },
  {
   "cell_type": "code",
   "execution_count": 57,
   "id": "be86498b-0809-4ccc-9e60-69f32b5ebcc1",
   "metadata": {},
   "outputs": [
    {
     "name": "stdout",
     "output_type": "stream",
     "text": [
      "0.0002908882086657216\n"
     ]
    }
   ],
   "source": [
    "print(constants.arcmin)"
   ]
  },
  {
   "cell_type": "code",
   "execution_count": 58,
   "id": "133beaea-db2b-4e85-a3ed-f096eb131919",
   "metadata": {},
   "outputs": [
    {
     "name": "stdout",
     "output_type": "stream",
     "text": [
      "0.0002908882086657216\n"
     ]
    }
   ],
   "source": [
    "print(constants.arcminute)"
   ]
  },
  {
   "cell_type": "code",
   "execution_count": 59,
   "id": "a19dc5d4-5068-4188-b239-f29c4bc47421",
   "metadata": {},
   "outputs": [
    {
     "name": "stdout",
     "output_type": "stream",
     "text": [
      "4.84813681109536e-06\n"
     ]
    }
   ],
   "source": [
    "print(constants.arcsec)"
   ]
  },
  {
   "cell_type": "code",
   "execution_count": 60,
   "id": "c8590d28-7b96-4bd8-a3ac-7d34c2dac083",
   "metadata": {},
   "outputs": [
    {
     "name": "stdout",
     "output_type": "stream",
     "text": [
      "4.84813681109536e-06\n"
     ]
    }
   ],
   "source": [
    "print(constants.arcsecond)"
   ]
  },
  {
   "cell_type": "markdown",
   "id": "ffbd7349-0ba3-40a0-8c7e-0e218aa222ae",
   "metadata": {},
   "source": [
    "# Time:-"
   ]
  },
  {
   "cell_type": "code",
   "execution_count": 61,
   "id": "f5ecc2ba-59df-48b4-a88e-e18b2ace6c1b",
   "metadata": {},
   "outputs": [
    {
     "name": "stdout",
     "output_type": "stream",
     "text": [
      "60.0\n"
     ]
    }
   ],
   "source": [
    "print(constants.minute)"
   ]
  },
  {
   "cell_type": "code",
   "execution_count": 62,
   "id": "d1d31f71-b869-4de3-adaf-2f4048b76a9a",
   "metadata": {},
   "outputs": [
    {
     "name": "stdout",
     "output_type": "stream",
     "text": [
      "3600.0\n"
     ]
    }
   ],
   "source": [
    "print(constants.hour)"
   ]
  },
  {
   "cell_type": "code",
   "execution_count": 63,
   "id": "9e1cf70d-dbcc-4ac3-a519-086a7806459c",
   "metadata": {},
   "outputs": [
    {
     "name": "stdout",
     "output_type": "stream",
     "text": [
      "86400.0\n"
     ]
    }
   ],
   "source": [
    "print(constants.day)"
   ]
  },
  {
   "cell_type": "code",
   "execution_count": 64,
   "id": "6aed6aa3-4278-4f81-9c7a-278f3c0d2f74",
   "metadata": {},
   "outputs": [
    {
     "name": "stdout",
     "output_type": "stream",
     "text": [
      "604800.0\n"
     ]
    }
   ],
   "source": [
    "print(constants.week)"
   ]
  },
  {
   "cell_type": "code",
   "execution_count": 65,
   "id": "329cbaae-cff7-4d01-86fb-ed5dc553485c",
   "metadata": {},
   "outputs": [
    {
     "name": "stdout",
     "output_type": "stream",
     "text": [
      "31536000.0\n"
     ]
    }
   ],
   "source": [
    "print(constants.year)"
   ]
  },
  {
   "cell_type": "code",
   "execution_count": 66,
   "id": "5b1b8565-15c1-422d-8c7c-15501634ea4f",
   "metadata": {},
   "outputs": [
    {
     "name": "stdout",
     "output_type": "stream",
     "text": [
      "31557600.0\n"
     ]
    }
   ],
   "source": [
    "print(constants.Julian_year)"
   ]
  },
  {
   "cell_type": "markdown",
   "id": "9ef025c7-2f68-4318-95ad-7d93bb2ee768",
   "metadata": {},
   "source": [
    "# Length:-"
   ]
  },
  {
   "cell_type": "code",
   "execution_count": 67,
   "id": "165517a8-661d-4498-a935-1dc660ce249e",
   "metadata": {},
   "outputs": [],
   "source": [
    "# Return the specified unit in meters (e.g. nautical_mile returns 1852.0)"
   ]
  },
  {
   "cell_type": "code",
   "execution_count": 68,
   "id": "ce68b376-e2b9-4f9c-88da-cd4304af00a4",
   "metadata": {},
   "outputs": [
    {
     "name": "stdout",
     "output_type": "stream",
     "text": [
      "0.0254\n"
     ]
    }
   ],
   "source": [
    "print(constants.inch) "
   ]
  },
  {
   "cell_type": "code",
   "execution_count": 69,
   "id": "651bceda-7f46-4a61-91f1-94d78d91d4a5",
   "metadata": {},
   "outputs": [
    {
     "name": "stdout",
     "output_type": "stream",
     "text": [
      "0.30479999999999996\n"
     ]
    }
   ],
   "source": [
    "print(constants.foot) "
   ]
  },
  {
   "cell_type": "code",
   "execution_count": 70,
   "id": "29a7122a-b7f7-4940-91d0-67dcc547cace",
   "metadata": {},
   "outputs": [
    {
     "name": "stdout",
     "output_type": "stream",
     "text": [
      "0.9143999999999999\n"
     ]
    }
   ],
   "source": [
    "print(constants.yard) "
   ]
  },
  {
   "cell_type": "code",
   "execution_count": 71,
   "id": "2cb91ff3-5091-4521-822c-11e04d0169c8",
   "metadata": {},
   "outputs": [
    {
     "name": "stdout",
     "output_type": "stream",
     "text": [
      "1609.3439999999998\n"
     ]
    }
   ],
   "source": [
    "print(constants.mile) "
   ]
  },
  {
   "cell_type": "code",
   "execution_count": 72,
   "id": "b7926676-e009-4d2d-8f25-5868b111d004",
   "metadata": {},
   "outputs": [
    {
     "name": "stdout",
     "output_type": "stream",
     "text": [
      "2.5399999999999997e-05\n"
     ]
    }
   ],
   "source": [
    "print(constants.mil) "
   ]
  },
  {
   "cell_type": "code",
   "execution_count": 73,
   "id": "dfc903e0-2bc4-48e3-a09f-108028173096",
   "metadata": {},
   "outputs": [
    {
     "name": "stdout",
     "output_type": "stream",
     "text": [
      "0.00035277777777777776\n"
     ]
    }
   ],
   "source": [
    "print(constants.pt) "
   ]
  },
  {
   "cell_type": "code",
   "execution_count": 74,
   "id": "97412b1f-2e34-4efa-ab8e-5bc6ed1250b9",
   "metadata": {},
   "outputs": [
    {
     "name": "stdout",
     "output_type": "stream",
     "text": [
      "0.00035277777777777776\n"
     ]
    }
   ],
   "source": [
    "print(constants.point) "
   ]
  },
  {
   "cell_type": "code",
   "execution_count": 75,
   "id": "91837cd6-cd44-4e9a-acbd-15b5feb7656c",
   "metadata": {},
   "outputs": [
    {
     "name": "stdout",
     "output_type": "stream",
     "text": [
      "0.3048006096012192\n"
     ]
    }
   ],
   "source": [
    "print(constants.survey_foot) "
   ]
  },
  {
   "cell_type": "code",
   "execution_count": 76,
   "id": "33629484-3f12-4431-8d03-f26f2b839818",
   "metadata": {},
   "outputs": [
    {
     "name": "stdout",
     "output_type": "stream",
     "text": [
      "1609.3472186944373\n"
     ]
    }
   ],
   "source": [
    "print(constants.survey_mile) "
   ]
  },
  {
   "cell_type": "code",
   "execution_count": 77,
   "id": "c3f62c81-5409-40a4-9107-04224b61845f",
   "metadata": {},
   "outputs": [
    {
     "name": "stdout",
     "output_type": "stream",
     "text": [
      "1852.0\n"
     ]
    }
   ],
   "source": [
    "print(constants.nautical_mile) "
   ]
  },
  {
   "cell_type": "code",
   "execution_count": 78,
   "id": "1a9ffd22-03dc-41c9-ae8c-64036dd9141f",
   "metadata": {},
   "outputs": [
    {
     "name": "stdout",
     "output_type": "stream",
     "text": [
      "1e-15\n"
     ]
    }
   ],
   "source": [
    "print(constants.fermi) "
   ]
  },
  {
   "cell_type": "code",
   "execution_count": 79,
   "id": "e038f77c-f2b0-4e3b-97da-3159d3ba0241",
   "metadata": {},
   "outputs": [
    {
     "name": "stdout",
     "output_type": "stream",
     "text": [
      "1e-10\n"
     ]
    }
   ],
   "source": [
    "print(constants.angstrom) "
   ]
  },
  {
   "cell_type": "code",
   "execution_count": 80,
   "id": "26d312f4-a4c4-4aa0-8745-5986e6a13334",
   "metadata": {},
   "outputs": [
    {
     "name": "stdout",
     "output_type": "stream",
     "text": [
      "1e-06\n"
     ]
    }
   ],
   "source": [
    "print(constants.micron) "
   ]
  },
  {
   "cell_type": "code",
   "execution_count": 81,
   "id": "1e8c649f-107e-4a83-a114-5de2794a02a8",
   "metadata": {},
   "outputs": [
    {
     "name": "stdout",
     "output_type": "stream",
     "text": [
      "149597870700.0\n"
     ]
    }
   ],
   "source": [
    "print(constants.au) "
   ]
  },
  {
   "cell_type": "code",
   "execution_count": 82,
   "id": "6abd337e-6db5-45b8-a8e2-bb26b30efa9a",
   "metadata": {},
   "outputs": [
    {
     "name": "stdout",
     "output_type": "stream",
     "text": [
      "149597870700.0\n"
     ]
    }
   ],
   "source": [
    "print(constants.astronomical_unit) "
   ]
  },
  {
   "cell_type": "code",
   "execution_count": 83,
   "id": "04d482d8-bf25-457c-b270-4d68bac4ee9e",
   "metadata": {},
   "outputs": [
    {
     "name": "stdout",
     "output_type": "stream",
     "text": [
      "9460730472580800.0\n"
     ]
    }
   ],
   "source": [
    "print(constants.light_year) "
   ]
  },
  {
   "cell_type": "code",
   "execution_count": 84,
   "id": "33b7fb12-9ca2-43f3-9d2e-7e0546023b52",
   "metadata": {},
   "outputs": [
    {
     "name": "stdout",
     "output_type": "stream",
     "text": [
      "3.085677581491367e+16\n"
     ]
    }
   ],
   "source": [
    "print(constants.parsec) "
   ]
  },
  {
   "cell_type": "markdown",
   "id": "85574cd2-8156-4561-867b-50839a3794f7",
   "metadata": {},
   "source": [
    "# Pressure:-"
   ]
  },
  {
   "cell_type": "code",
   "execution_count": 85,
   "id": "8dbb83e4-229a-4916-a798-61aef2a35270",
   "metadata": {},
   "outputs": [],
   "source": [
    "# Return the specified unit in pascals (e.g. psi returns 6894.757293168361) "
   ]
  },
  {
   "cell_type": "code",
   "execution_count": 86,
   "id": "2027d9b8-6dbf-4066-8a2e-31fc0b55feb4",
   "metadata": {},
   "outputs": [
    {
     "name": "stdout",
     "output_type": "stream",
     "text": [
      "101325.0\n"
     ]
    }
   ],
   "source": [
    "print(constants.atm)"
   ]
  },
  {
   "cell_type": "code",
   "execution_count": 87,
   "id": "9d1b593f-db66-4fee-880e-adb4a0eb7ec0",
   "metadata": {},
   "outputs": [
    {
     "name": "stdout",
     "output_type": "stream",
     "text": [
      "101325.0\n"
     ]
    }
   ],
   "source": [
    "print(constants.atmosphere)"
   ]
  },
  {
   "cell_type": "code",
   "execution_count": 88,
   "id": "0aa46381-489d-4d19-af7e-e7d484837253",
   "metadata": {},
   "outputs": [
    {
     "name": "stdout",
     "output_type": "stream",
     "text": [
      "100000.0\n"
     ]
    }
   ],
   "source": [
    "print(constants.bar)"
   ]
  },
  {
   "cell_type": "code",
   "execution_count": 89,
   "id": "3dee9abf-58c4-4238-bbab-364663c1b173",
   "metadata": {},
   "outputs": [
    {
     "name": "stdout",
     "output_type": "stream",
     "text": [
      "133.32236842105263\n"
     ]
    }
   ],
   "source": [
    "print(constants.torr)"
   ]
  },
  {
   "cell_type": "code",
   "execution_count": 90,
   "id": "6134a604-4c26-4985-a20d-be24052c1991",
   "metadata": {},
   "outputs": [
    {
     "name": "stdout",
     "output_type": "stream",
     "text": [
      "133.32236842105263\n"
     ]
    }
   ],
   "source": [
    "print(constants.mmHg)"
   ]
  },
  {
   "cell_type": "code",
   "execution_count": 91,
   "id": "2d6e07ee-0985-4b3e-bcf6-b50bf246527c",
   "metadata": {},
   "outputs": [
    {
     "name": "stdout",
     "output_type": "stream",
     "text": [
      "6894.757293168361\n"
     ]
    }
   ],
   "source": [
    "print(constants.psi)"
   ]
  },
  {
   "cell_type": "markdown",
   "id": "9086bf48-178f-468a-bfa6-e6a58d98f92a",
   "metadata": {},
   "source": [
    "# Area:- Return the specified unit in square meters(e.g. hectare returns 10000.0)"
   ]
  },
  {
   "cell_type": "code",
   "execution_count": 92,
   "id": "d3a6b348-70fa-415b-ada0-a0a1a2c5b231",
   "metadata": {},
   "outputs": [
    {
     "name": "stdout",
     "output_type": "stream",
     "text": [
      "10000.0\n"
     ]
    }
   ],
   "source": [
    "print(constants.hectare)"
   ]
  },
  {
   "cell_type": "code",
   "execution_count": 93,
   "id": "aa813311-6885-4a3b-9edc-3798e9bc26ef",
   "metadata": {},
   "outputs": [
    {
     "name": "stdout",
     "output_type": "stream",
     "text": [
      "4046.8564223999992\n"
     ]
    }
   ],
   "source": [
    "print(constants.acre)"
   ]
  },
  {
   "cell_type": "markdown",
   "id": "973d816d-e339-480b-8d55-f5fac7e4d39c",
   "metadata": {},
   "source": [
    "# Volume:-"
   ]
  },
  {
   "cell_type": "code",
   "execution_count": 94,
   "id": "ca42daf7-39b3-4b74-b35c-9a97a583b1ef",
   "metadata": {},
   "outputs": [],
   "source": [
    "# Return the specified unit in cubic meters (e.g. liter returns 0.001)"
   ]
  },
  {
   "cell_type": "code",
   "execution_count": 95,
   "id": "80fd7923-7a82-4132-8f9c-acd2abfbd3e7",
   "metadata": {},
   "outputs": [
    {
     "name": "stdout",
     "output_type": "stream",
     "text": [
      "0.001\n"
     ]
    }
   ],
   "source": [
    "print(constants.liter) "
   ]
  },
  {
   "cell_type": "code",
   "execution_count": 96,
   "id": "c2955013-62ff-45cf-ab83-3f9688481ab0",
   "metadata": {},
   "outputs": [
    {
     "name": "stdout",
     "output_type": "stream",
     "text": [
      "0.001\n"
     ]
    }
   ],
   "source": [
    "print(constants.litre) "
   ]
  },
  {
   "cell_type": "code",
   "execution_count": 97,
   "id": "68780e37-0268-4283-befb-9398d2116838",
   "metadata": {},
   "outputs": [
    {
     "name": "stdout",
     "output_type": "stream",
     "text": [
      "0.0037854117839999997\n"
     ]
    }
   ],
   "source": [
    "print(constants.gallon) "
   ]
  },
  {
   "cell_type": "code",
   "execution_count": 98,
   "id": "42ff49f7-2ca7-40ec-aff9-2e87d84753cf",
   "metadata": {},
   "outputs": [
    {
     "name": "stdout",
     "output_type": "stream",
     "text": [
      "0.0037854117839999997\n"
     ]
    }
   ],
   "source": [
    "print(constants.gallon_US) "
   ]
  },
  {
   "cell_type": "code",
   "execution_count": 99,
   "id": "c6dec8e8-b2b8-4ec5-9bfd-f8364a23664c",
   "metadata": {},
   "outputs": [
    {
     "name": "stdout",
     "output_type": "stream",
     "text": [
      "0.00454609\n"
     ]
    }
   ],
   "source": [
    "print(constants.gallon_imp) "
   ]
  },
  {
   "cell_type": "code",
   "execution_count": 100,
   "id": "a416021a-da3a-4ccf-8c55-ba63645f97fa",
   "metadata": {},
   "outputs": [
    {
     "name": "stdout",
     "output_type": "stream",
     "text": [
      "2.9573529562499998e-05\n"
     ]
    }
   ],
   "source": [
    "print(constants.fluid_ounce) "
   ]
  },
  {
   "cell_type": "code",
   "execution_count": 101,
   "id": "fd0ad312-43aa-4d0b-b687-ff4d8ae0caa6",
   "metadata": {},
   "outputs": [
    {
     "name": "stdout",
     "output_type": "stream",
     "text": [
      "2.9573529562499998e-05\n"
     ]
    }
   ],
   "source": [
    "print(constants.fluid_ounce_US) "
   ]
  },
  {
   "cell_type": "code",
   "execution_count": 102,
   "id": "17a7f874-76f3-45ae-9e34-83937ec6afa5",
   "metadata": {},
   "outputs": [
    {
     "name": "stdout",
     "output_type": "stream",
     "text": [
      "2.84130625e-05\n"
     ]
    }
   ],
   "source": [
    "print(constants.fluid_ounce_imp) "
   ]
  },
  {
   "cell_type": "code",
   "execution_count": 103,
   "id": "18364f07-4601-45a8-8257-cd531fe3cfeb",
   "metadata": {},
   "outputs": [
    {
     "name": "stdout",
     "output_type": "stream",
     "text": [
      "0.15898729492799998\n"
     ]
    }
   ],
   "source": [
    "print(constants.barrel) "
   ]
  },
  {
   "cell_type": "code",
   "execution_count": 104,
   "id": "97758a7b-8e98-4d98-83ec-365edcbc080b",
   "metadata": {},
   "outputs": [
    {
     "name": "stdout",
     "output_type": "stream",
     "text": [
      "0.15898729492799998\n"
     ]
    }
   ],
   "source": [
    "print(constants.bbl) "
   ]
  },
  {
   "cell_type": "markdown",
   "id": "97668243-4c3c-40e0-96f9-35717689527e",
   "metadata": {},
   "source": [
    "# Speed:-"
   ]
  },
  {
   "cell_type": "code",
   "execution_count": 105,
   "id": "ae46948f-5a10-43f1-bd3a-c1157eca33d2",
   "metadata": {},
   "outputs": [],
   "source": [
    "# Return the specified unit in meters per second (e.g. speed_of_sound returns 340.5)"
   ]
  },
  {
   "cell_type": "code",
   "execution_count": 106,
   "id": "18ba0aeb-c3f7-42d3-a378-321150f1263b",
   "metadata": {},
   "outputs": [
    {
     "name": "stdout",
     "output_type": "stream",
     "text": [
      "0.2777777777777778\n"
     ]
    }
   ],
   "source": [
    "print(constants.kmh)"
   ]
  },
  {
   "cell_type": "code",
   "execution_count": 107,
   "id": "733181e5-75f4-4fed-bd54-cd5ae2b0e010",
   "metadata": {},
   "outputs": [
    {
     "name": "stdout",
     "output_type": "stream",
     "text": [
      "0.44703999999999994\n"
     ]
    }
   ],
   "source": [
    "print(constants.mph)"
   ]
  },
  {
   "cell_type": "code",
   "execution_count": 108,
   "id": "ba3e9594-9b39-4c5d-973c-8bfa62139fcd",
   "metadata": {},
   "outputs": [
    {
     "name": "stdout",
     "output_type": "stream",
     "text": [
      "340.5\n"
     ]
    }
   ],
   "source": [
    "print(constants.mach)"
   ]
  },
  {
   "cell_type": "code",
   "execution_count": 109,
   "id": "b2e78538-e32c-4c58-8134-b850cf1ea888",
   "metadata": {},
   "outputs": [
    {
     "name": "stdout",
     "output_type": "stream",
     "text": [
      "340.5\n"
     ]
    }
   ],
   "source": [
    "print(constants.speed_of_sound)"
   ]
  },
  {
   "cell_type": "code",
   "execution_count": 110,
   "id": "199974d7-71c4-40b0-b9dc-2b312d93a734",
   "metadata": {},
   "outputs": [
    {
     "name": "stdout",
     "output_type": "stream",
     "text": [
      "0.5144444444444445\n"
     ]
    }
   ],
   "source": [
    "print(constants.knot)"
   ]
  },
  {
   "cell_type": "markdown",
   "id": "e04c3a67-37fe-4838-a05e-ba4845811c44",
   "metadata": {},
   "source": [
    "# Temperature:-"
   ]
  },
  {
   "cell_type": "code",
   "execution_count": 111,
   "id": "35e79399-4089-479d-9467-b65998d59ade",
   "metadata": {},
   "outputs": [],
   "source": [
    "# Return the specified unit in Kelvin (e.g. zero_Celsius returns 273.15)"
   ]
  },
  {
   "cell_type": "code",
   "execution_count": 112,
   "id": "ea85f7de-9483-4d03-afae-1861b650c4a9",
   "metadata": {},
   "outputs": [
    {
     "name": "stdout",
     "output_type": "stream",
     "text": [
      "273.15\n"
     ]
    }
   ],
   "source": [
    "print(constants.zero_Celsius) "
   ]
  },
  {
   "cell_type": "code",
   "execution_count": 113,
   "id": "8e39a276-16ae-49a1-a56b-615935805478",
   "metadata": {},
   "outputs": [
    {
     "name": "stdout",
     "output_type": "stream",
     "text": [
      "0.5555555555555556\n"
     ]
    }
   ],
   "source": [
    "print(constants.degree_Fahrenheit) "
   ]
  },
  {
   "cell_type": "markdown",
   "id": "6293b2d7-a25b-4039-ab9a-f137f49ad301",
   "metadata": {},
   "source": [
    "# Energy:-"
   ]
  },
  {
   "cell_type": "code",
   "execution_count": 114,
   "id": "5e583016-a470-4122-ab35-12b5dec51ec0",
   "metadata": {},
   "outputs": [],
   "source": [
    "# Return the specified unit in joules (e.g. calorie returns 4.184)"
   ]
  },
  {
   "cell_type": "code",
   "execution_count": 115,
   "id": "8489f679-23a8-41d0-a599-5c90ac2f2bea",
   "metadata": {},
   "outputs": [
    {
     "name": "stdout",
     "output_type": "stream",
     "text": [
      "1.602176634e-19\n"
     ]
    }
   ],
   "source": [
    "print(constants.eV)"
   ]
  },
  {
   "cell_type": "code",
   "execution_count": 116,
   "id": "6598ac5c-8ae5-49d5-866f-dbd061ad3071",
   "metadata": {},
   "outputs": [
    {
     "name": "stdout",
     "output_type": "stream",
     "text": [
      "1.602176634e-19\n"
     ]
    }
   ],
   "source": [
    "print(constants.electron_volt)"
   ]
  },
  {
   "cell_type": "code",
   "execution_count": 117,
   "id": "d57b0c39-26ff-49fa-9ad6-16a5319818aa",
   "metadata": {},
   "outputs": [
    {
     "name": "stdout",
     "output_type": "stream",
     "text": [
      "4.184\n"
     ]
    }
   ],
   "source": [
    "print(constants.calorie)"
   ]
  },
  {
   "cell_type": "code",
   "execution_count": 118,
   "id": "ce29df39-1910-4380-9178-35b3f610167c",
   "metadata": {},
   "outputs": [
    {
     "name": "stdout",
     "output_type": "stream",
     "text": [
      "4.184\n"
     ]
    }
   ],
   "source": [
    "print(constants.calorie_th)"
   ]
  },
  {
   "cell_type": "code",
   "execution_count": 119,
   "id": "34416552-c5b9-42ad-b417-0e8fd6d99062",
   "metadata": {},
   "outputs": [
    {
     "name": "stdout",
     "output_type": "stream",
     "text": [
      "4.1868\n"
     ]
    }
   ],
   "source": [
    "print(constants.calorie_IT)"
   ]
  },
  {
   "cell_type": "code",
   "execution_count": 120,
   "id": "da0c16e8-3f95-4c74-a687-ab5417b2b082",
   "metadata": {},
   "outputs": [
    {
     "name": "stdout",
     "output_type": "stream",
     "text": [
      "1e-07\n"
     ]
    }
   ],
   "source": [
    "print(constants.erg)"
   ]
  },
  {
   "cell_type": "code",
   "execution_count": 121,
   "id": "5a0c415e-9bdc-4262-823e-61395667d9a4",
   "metadata": {},
   "outputs": [
    {
     "name": "stdout",
     "output_type": "stream",
     "text": [
      "1055.05585262\n"
     ]
    }
   ],
   "source": [
    "print(constants.Btu)"
   ]
  },
  {
   "cell_type": "code",
   "execution_count": 122,
   "id": "6cba2e1b-31e6-41a9-b341-b7348d75f697",
   "metadata": {},
   "outputs": [
    {
     "name": "stdout",
     "output_type": "stream",
     "text": [
      "1055.05585262\n"
     ]
    }
   ],
   "source": [
    "print(constants.Btu_IT)"
   ]
  },
  {
   "cell_type": "code",
   "execution_count": 123,
   "id": "216c81ae-42df-4a22-b827-953f1a3e6ffd",
   "metadata": {},
   "outputs": [
    {
     "name": "stdout",
     "output_type": "stream",
     "text": [
      "1054.3502644888888\n"
     ]
    }
   ],
   "source": [
    "print(constants.Btu_th)"
   ]
  },
  {
   "cell_type": "code",
   "execution_count": 124,
   "id": "18e055e2-d180-4467-8455-5b3cdd8272d6",
   "metadata": {},
   "outputs": [
    {
     "name": "stdout",
     "output_type": "stream",
     "text": [
      "4184000000.0\n"
     ]
    }
   ],
   "source": [
    "print(constants.ton_TNT)"
   ]
  },
  {
   "cell_type": "markdown",
   "id": "43baba0b-de93-4fb5-ade4-7b5936e3de6d",
   "metadata": {},
   "source": [
    "# Power:-"
   ]
  },
  {
   "cell_type": "code",
   "execution_count": 125,
   "id": "8b34f862-63b2-4c16-b1df-4b728a06f909",
   "metadata": {},
   "outputs": [],
   "source": [
    "# Return the specified unit in watts (e.g. horsepower returns 745.6998715822701)"
   ]
  },
  {
   "cell_type": "code",
   "execution_count": 126,
   "id": "f8c2a71f-8fb0-4e79-bbb8-9b5dc2071629",
   "metadata": {},
   "outputs": [
    {
     "name": "stdout",
     "output_type": "stream",
     "text": [
      "745.6998715822701\n"
     ]
    }
   ],
   "source": [
    "print(constants.hp)"
   ]
  },
  {
   "cell_type": "code",
   "execution_count": 128,
   "id": "fa5ca6f5-9912-41a0-b104-4e76c1eaa5c6",
   "metadata": {},
   "outputs": [
    {
     "name": "stdout",
     "output_type": "stream",
     "text": [
      "745.6998715822701\n"
     ]
    }
   ],
   "source": [
    "print(constants.horsepower) "
   ]
  },
  {
   "cell_type": "markdown",
   "id": "21e6a09d-2df3-46e7-9e13-5b59ca23c9d9",
   "metadata": {},
   "source": [
    "# Force:-"
   ]
  },
  {
   "cell_type": "code",
   "execution_count": 129,
   "id": "8e9d765d-fd06-405d-adfb-70e4fbea6c6d",
   "metadata": {},
   "outputs": [],
   "source": [
    "# Return the specified unit in newton (e.g. kilogram_force returns 9.80665)\n"
   ]
  },
  {
   "cell_type": "code",
   "execution_count": 130,
   "id": "49dd5a3e-42b8-4aea-81b4-672b3d516d70",
   "metadata": {},
   "outputs": [
    {
     "name": "stdout",
     "output_type": "stream",
     "text": [
      "1e-05\n"
     ]
    }
   ],
   "source": [
    "print(constants.dyn)"
   ]
  },
  {
   "cell_type": "code",
   "execution_count": 131,
   "id": "464345d2-c584-4f1c-918a-2e4a30a19cb5",
   "metadata": {},
   "outputs": [
    {
     "name": "stdout",
     "output_type": "stream",
     "text": [
      "1e-05\n"
     ]
    }
   ],
   "source": [
    "print(constants.dyne)"
   ]
  },
  {
   "cell_type": "code",
   "execution_count": 132,
   "id": "ccfe154b-27bd-4781-8f6f-d6fbb9bb3f6e",
   "metadata": {},
   "outputs": [
    {
     "name": "stdout",
     "output_type": "stream",
     "text": [
      "4.4482216152605\n"
     ]
    }
   ],
   "source": [
    "print(constants.lbf)"
   ]
  },
  {
   "cell_type": "code",
   "execution_count": 133,
   "id": "9aba2782-abdf-4955-81c9-95b00fc025d3",
   "metadata": {},
   "outputs": [
    {
     "name": "stdout",
     "output_type": "stream",
     "text": [
      "4.4482216152605\n"
     ]
    }
   ],
   "source": [
    "print(constants.pound_force)"
   ]
  },
  {
   "cell_type": "code",
   "execution_count": 134,
   "id": "1dbde5e2-476d-44fb-9aad-428fbd90ec5f",
   "metadata": {},
   "outputs": [
    {
     "name": "stdout",
     "output_type": "stream",
     "text": [
      "9.80665\n"
     ]
    }
   ],
   "source": [
    "print(constants.kgf)"
   ]
  },
  {
   "cell_type": "code",
   "execution_count": 135,
   "id": "344b9fea-6870-45bd-b0c1-85408b580fdd",
   "metadata": {},
   "outputs": [
    {
     "name": "stdout",
     "output_type": "stream",
     "text": [
      "9.80665\n"
     ]
    }
   ],
   "source": [
    "print(constants.kilogram_force)"
   ]
  },
  {
   "cell_type": "markdown",
   "id": "2748279d-9566-432f-9237-2c4326702fe9",
   "metadata": {},
   "source": [
    "# Optimizers in SciPy"
   ]
  },
  {
   "cell_type": "code",
   "execution_count": 136,
   "id": "ccd39654-56ec-4cfa-872d-eaeffbe00471",
   "metadata": {},
   "outputs": [],
   "source": [
    "# For that you can use SciPy's optimize.root function.\n",
    "\n",
    "# This function takes two required arguments:\n",
    "\n",
    "# fun - a function representing an equation.\n",
    "\n",
    "# x0 - an initial guess for the root."
   ]
  },
  {
   "cell_type": "markdown",
   "id": "7597e489-7a82-4f17-8483-bddcaeaeb655",
   "metadata": {},
   "source": [
    "# Find root of the equation x + cos(x):"
   ]
  },
  {
   "cell_type": "code",
   "execution_count": 137,
   "id": "4f12e930-e062-40d1-8969-f04f1b8f697b",
   "metadata": {},
   "outputs": [
    {
     "name": "stdout",
     "output_type": "stream",
     "text": [
      "[-0.73908513]\n"
     ]
    },
    {
     "name": "stderr",
     "output_type": "stream",
     "text": [
      "C:\\Users\\gauta\\AppData\\Local\\Temp\\ipykernel_23236\\2569260384.py:5: DeprecationWarning: Conversion of an array with ndim > 0 to a scalar is deprecated, and will error in future. Ensure you extract a single element from your array before performing this operation. (Deprecated NumPy 1.25.)\n",
      "  return x+cos(x)\n"
     ]
    }
   ],
   "source": [
    "from scipy.optimize import root\n",
    "from math import cos\n",
    "\n",
    "def eqn(x):\n",
    "    return x+cos(x)\n",
    "\n",
    "myroot = root(eqn, 0)\n",
    "\n",
    "print(myroot.x)\n",
    "\n"
   ]
  },
  {
   "cell_type": "code",
   "execution_count": 138,
   "id": "02c540f7-2923-4702-9093-f29fe1254a5c",
   "metadata": {},
   "outputs": [
    {
     "name": "stdout",
     "output_type": "stream",
     "text": [
      " message: The solution converged.\n",
      " success: True\n",
      "  status: 1\n",
      "     fun: [ 0.000e+00]\n",
      "       x: [-7.391e-01]\n",
      "  method: hybr\n",
      "    nfev: 11\n",
      "    fjac: [[-1.000e+00]]\n",
      "       r: [-1.674e+00]\n",
      "     qtf: [-2.668e-13]\n"
     ]
    }
   ],
   "source": [
    "print(myroot)"
   ]
  },
  {
   "cell_type": "markdown",
   "id": "6aef38d8-1dd7-4b9c-bd18-d5da7d1fa2e0",
   "metadata": {},
   "source": [
    "# Minimizing a Function:-"
   ]
  },
  {
   "cell_type": "code",
   "execution_count": 139,
   "id": "26229ca6-e1a7-41e2-993b-5c31a07a87d1",
   "metadata": {},
   "outputs": [],
   "source": [
    "# The minimize() function takes the following arguments:\n",
    "\n",
    "# fun - a function representing an equation.\n",
    "\n",
    "# x0 - an initial guess for the root.\n",
    "\n",
    "# method - name of the method to use. Legal values:\n",
    "#     'CG'\n",
    "#     'BFGS'\n",
    "#     'Newton-CG'\n",
    "#     'L-BFGS-B'\n",
    "#     'TNC'\n",
    "#     'COBYLA'\n",
    "#     'SLSQP'\n",
    "\n",
    "# callback - function called after each iteration of optimization.\n",
    "\n",
    "# options - a dictionary defining extra params:\n",
    "\n",
    "# {\n",
    "#      \"disp\": boolean - print detailed description\n",
    "#      \"gtol\": number - the tolerance of the error\n",
    "#   }"
   ]
  },
  {
   "cell_type": "markdown",
   "id": "2ea33f33-940b-4a49-bd52-5f86798d9142",
   "metadata": {},
   "source": [
    "# Minimize the function x^2 + x + 2 with BFGS:"
   ]
  },
  {
   "cell_type": "code",
   "execution_count": 140,
   "id": "7aa44c0b-f82e-4a98-975f-6b262b7b7f06",
   "metadata": {},
   "outputs": [
    {
     "name": "stdout",
     "output_type": "stream",
     "text": [
      "  message: Optimization terminated successfully.\n",
      "  success: True\n",
      "   status: 0\n",
      "      fun: 1.75\n",
      "        x: [-5.000e-01]\n",
      "      nit: 2\n",
      "      jac: [ 0.000e+00]\n",
      " hess_inv: [[ 5.000e-01]]\n",
      "     nfev: 8\n",
      "     njev: 4\n"
     ]
    }
   ],
   "source": [
    "from scipy.optimize import minimize\n",
    "\n",
    "def func(x):\n",
    "    return x**2 + x +2\n",
    "\n",
    "mymin = minimize(func, 0, method = 'BFGS')\n",
    "print(mymin)\n",
    "\n"
   ]
  },
  {
   "cell_type": "code",
   "execution_count": 141,
   "id": "d7623f3d-de84-4c2a-8454-9eeff38e65ff",
   "metadata": {},
   "outputs": [
    {
     "name": "stdout",
     "output_type": "stream",
     "text": [
      "[-0.50000001]\n"
     ]
    }
   ],
   "source": [
    "print(mymin.x)"
   ]
  },
  {
   "cell_type": "markdown",
   "id": "ff63f39c-a547-49fc-b8ee-0f38a32550fb",
   "metadata": {},
   "source": [
    "# Sparse Data "
   ]
  },
  {
   "cell_type": "code",
   "execution_count": 142,
   "id": "b7434442-ae1b-409b-8066-215b7f677ef2",
   "metadata": {},
   "outputs": [
    {
     "name": "stdout",
     "output_type": "stream",
     "text": [
      "<Compressed Sparse Row sparse matrix of dtype 'int32'\n",
      "\twith 3 stored elements and shape (1, 9)>\n",
      "  Coords\tValues\n",
      "  (0, 5)\t1\n",
      "  (0, 6)\t1\n",
      "  (0, 8)\t2\n"
     ]
    }
   ],
   "source": [
    "import numpy as np\n",
    "from scipy.sparse import csr_matrix\n",
    "\n",
    "arr = np.array([0, 0, 0, 0, 0, 1, 1, 0, 2])\n",
    "\n",
    "print(csr_matrix(arr))"
   ]
  },
  {
   "cell_type": "markdown",
   "id": "c5fa2676-e29b-4d56-ad41-f543cb6e2a27",
   "metadata": {},
   "source": [
    "# Sparse Matrix Methods:- "
   ]
  },
  {
   "cell_type": "code",
   "execution_count": 143,
   "id": "e1d320c1-2f4c-4462-8ad3-439a6b736888",
   "metadata": {},
   "outputs": [
    {
     "name": "stdout",
     "output_type": "stream",
     "text": [
      "[1 1 2]\n"
     ]
    }
   ],
   "source": [
    "arr = np.array([[0,0,0], [0,0,1], [1, 0, 2]])\n",
    "\n",
    "print(csr_matrix(arr).data)"
   ]
  },
  {
   "cell_type": "code",
   "execution_count": 144,
   "id": "328301d2-48a0-4c32-9dc3-a4a8c91fd76a",
   "metadata": {},
   "outputs": [
    {
     "name": "stdout",
     "output_type": "stream",
     "text": [
      "3\n"
     ]
    }
   ],
   "source": [
    "# Counting nonzeros with the count_nonzero() method:\n",
    "\n",
    "print(csr_matrix(arr).count_nonzero())"
   ]
  },
  {
   "cell_type": "code",
   "execution_count": 145,
   "id": "00f270ec-f7c1-4cb9-bf47-1b3c8a0afffb",
   "metadata": {},
   "outputs": [
    {
     "name": "stdout",
     "output_type": "stream",
     "text": [
      "<Compressed Sparse Row sparse matrix of dtype 'int32'\n",
      "\twith 3 stored elements and shape (3, 3)>\n",
      "  Coords\tValues\n",
      "  (1, 2)\t1\n",
      "  (2, 0)\t1\n",
      "  (2, 2)\t2\n"
     ]
    }
   ],
   "source": [
    "# Removing zero-entries from the matrix with the eliminate_zeros() method:\n",
    "\n",
    "mat = csr_matrix(arr)\n",
    "\n",
    "mat.eliminate_zeros()\n",
    "\n",
    "print(mat)"
   ]
  },
  {
   "cell_type": "code",
   "execution_count": 146,
   "id": "7c6f41ea-3102-4d9d-94a4-2105cd8175a2",
   "metadata": {},
   "outputs": [
    {
     "name": "stdout",
     "output_type": "stream",
     "text": [
      "<Compressed Sparse Row sparse matrix of dtype 'int32'\n",
      "\twith 3 stored elements and shape (3, 3)>\n",
      "  Coords\tValues\n",
      "  (1, 2)\t1\n",
      "  (2, 0)\t1\n",
      "  (2, 2)\t2\n"
     ]
    }
   ],
   "source": [
    "# Eliminating duplicate entries with the sum_duplicates() method:\n",
    "\n",
    "mat = csr_matrix(arr)\n",
    "mat.sum_duplicates()\n",
    "\n",
    "print(mat)\n"
   ]
  },
  {
   "cell_type": "code",
   "execution_count": 147,
   "id": "ed55898d-da14-4d60-bfd3-eb11abb19794",
   "metadata": {},
   "outputs": [
    {
     "name": "stdout",
     "output_type": "stream",
     "text": [
      "<Compressed Sparse Column sparse matrix of dtype 'int32'\n",
      "\twith 3 stored elements and shape (3, 3)>\n",
      "  Coords\tValues\n",
      "  (2, 0)\t1\n",
      "  (1, 2)\t1\n",
      "  (2, 2)\t2\n"
     ]
    }
   ],
   "source": [
    "# Converting from csr to csc with the tocsc() method:\n",
    "\n",
    "import numpy as np\n",
    "from scipy.sparse import csr_matrix\n",
    "\n",
    "arr = np.array([[0, 0, 0], [0, 0, 1], [1, 0, 2]])\n",
    "\n",
    "newarr = csr_matrix(arr).tocsc()\n",
    "\n",
    "print(newarr)"
   ]
  },
  {
   "cell_type": "code",
   "execution_count": null,
   "id": "765dae82-2729-4eaf-9c0b-bdb9043f3983",
   "metadata": {},
   "outputs": [],
   "source": []
  }
 ],
 "metadata": {
  "kernelspec": {
   "display_name": "Python 3 (ipykernel)",
   "language": "python",
   "name": "python3"
  },
  "language_info": {
   "codemirror_mode": {
    "name": "ipython",
    "version": 3
   },
   "file_extension": ".py",
   "mimetype": "text/x-python",
   "name": "python",
   "nbconvert_exporter": "python",
   "pygments_lexer": "ipython3",
   "version": "3.12.6"
  }
 },
 "nbformat": 4,
 "nbformat_minor": 5
}

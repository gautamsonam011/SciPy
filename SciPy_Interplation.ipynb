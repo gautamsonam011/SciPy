{
 "cells": [
  {
   "cell_type": "markdown",
   "id": "6836e328-f370-4629-a058-a4fd493eb40e",
   "metadata": {},
   "source": [
    "# SciPy Interpolation:-"
   ]
  },
  {
   "cell_type": "code",
   "execution_count": 2,
   "id": "1dd9d0fa-b623-4d2a-8586-21155ee721d0",
   "metadata": {},
   "outputs": [
    {
     "name": "stdout",
     "output_type": "stream",
     "text": [
      "[5.2 5.4 5.6 5.8 6.  6.2 6.4 6.6 6.8]\n"
     ]
    }
   ],
   "source": [
    "# For given xs and ys interpolate values from 2.1, 2.2... to 2.9:\n",
    "\n",
    "from scipy.interpolate import interp1d\n",
    "import numpy as np\n",
    "\n",
    "xs = np.arange(10)\n",
    "\n",
    "ys = 2*xs + 1\n",
    "\n",
    "interp_func = interp1d(xs, ys)\n",
    "\n",
    "newarr = interp_func(np.arange(2.1, 3, 0.1))\n",
    "\n",
    "print(newarr)"
   ]
  },
  {
   "cell_type": "markdown",
   "id": "f0dad1fe-135e-4e7e-b2b3-1ab08823eecb",
   "metadata": {},
   "source": [
    "# Spline Interpolation:-"
   ]
  },
  {
   "cell_type": "code",
   "execution_count": 3,
   "id": "3e2aa526-a4e3-411f-965a-a19d214b7b27",
   "metadata": {},
   "outputs": [
    {
     "name": "stdout",
     "output_type": "stream",
     "text": [
      "[5.62826474 6.03987348 6.47131994 6.92265019 7.3939103  7.88514634\n",
      " 8.39640439 8.92773053 9.47917082]\n"
     ]
    }
   ],
   "source": [
    "# Find univariate spline interpolation for 2.1, 2.2... 2.9 for the following non linear points:\n",
    "\n",
    "from scipy.interpolate import UnivariateSpline\n",
    "import numpy as np\n",
    "\n",
    "xs = np.arange(10)\n",
    "ys = xs**2 + np.sin(xs) + 1\n",
    "\n",
    "interp_func = UnivariateSpline(xs, ys)\n",
    "\n",
    "newarr = interp_func(np.arange(2.1, 3, 0.1))\n",
    "\n",
    "print(newarr)"
   ]
  },
  {
   "cell_type": "markdown",
   "id": "cbbd5f0c-9667-4876-9df8-8d6ffc23f722",
   "metadata": {},
   "source": [
    "# Interpolation with Radial basis function:- "
   ]
  },
  {
   "cell_type": "code",
   "execution_count": 4,
   "id": "ea03d75b-3b04-4e4b-9d53-d53bc17d171c",
   "metadata": {},
   "outputs": [],
   "source": [
    "# Interpolate following xs and ys using rbf and find values for 2.1, 2.2 ... 2.9:\n"
   ]
  },
  {
   "cell_type": "code",
   "execution_count": 5,
   "id": "feeb8d37-c092-42a7-b6e2-0831a15ee344",
   "metadata": {},
   "outputs": [
    {
     "name": "stdout",
     "output_type": "stream",
     "text": [
      "[6.25748981 6.62190817 7.00310702 7.40121814 7.8161443  8.24773402\n",
      " 8.69590519 9.16070828 9.64233874]\n"
     ]
    }
   ],
   "source": [
    "from scipy.interpolate import Rbf\n",
    "import numpy as np\n",
    "\n",
    "xs = np.arange(10)\n",
    "ys = xs**2 + np.sin(xs) + 1\n",
    "\n",
    "interp_func = Rbf(xs, ys)\n",
    "\n",
    "newarr = interp_func(np.arange(2.1, 3, 0.1))\n",
    "\n",
    "print(newarr)"
   ]
  },
  {
   "cell_type": "code",
   "execution_count": null,
   "id": "b36e431b-04b9-4fbd-bf5f-c2b0f9227c9d",
   "metadata": {},
   "outputs": [],
   "source": []
  }
 ],
 "metadata": {
  "kernelspec": {
   "display_name": "Python 3 (ipykernel)",
   "language": "python",
   "name": "python3"
  },
  "language_info": {
   "codemirror_mode": {
    "name": "ipython",
    "version": 3
   },
   "file_extension": ".py",
   "mimetype": "text/x-python",
   "name": "python",
   "nbconvert_exporter": "python",
   "pygments_lexer": "ipython3",
   "version": "3.12.6"
  }
 },
 "nbformat": 4,
 "nbformat_minor": 5
}

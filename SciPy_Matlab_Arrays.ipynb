{
 "cells": [
  {
   "cell_type": "markdown",
   "id": "8b52ded9-ac65-4866-8c85-e667a00a73f6",
   "metadata": {},
   "source": [
    "# Matlab Arrays:- "
   ]
  },
  {
   "cell_type": "code",
   "execution_count": 1,
   "id": "47ea14e3-5067-4646-bfc3-3a036caccc10",
   "metadata": {},
   "outputs": [],
   "source": [
    "# Export the following array as variable name \"vec\" to a mat file:"
   ]
  },
  {
   "cell_type": "code",
   "execution_count": 2,
   "id": "c656cb6e-44b2-4272-a289-677f9ccf4e48",
   "metadata": {},
   "outputs": [],
   "source": [
    "from scipy import io\n",
    "import numpy as np\n",
    "\n",
    "arr = np.arange(10)\n",
    "\n",
    "io.savemat('arr.mat', {\"vec\":arr})"
   ]
  },
  {
   "cell_type": "code",
   "execution_count": 3,
   "id": "1c5b76e4-942e-4dd6-a46b-1e9b7d7bfaef",
   "metadata": {},
   "outputs": [
    {
     "name": "stdout",
     "output_type": "stream",
     "text": [
      "[0 1 2 3 4 5 6 7 8 9]\n"
     ]
    }
   ],
   "source": [
    "print(arr)"
   ]
  },
  {
   "cell_type": "markdown",
   "id": "f24ff4dd-ed07-41e7-99f4-c6d13d3c7cd2",
   "metadata": {},
   "source": [
    "# Import data from matlab format:- "
   ]
  },
  {
   "cell_type": "code",
   "execution_count": 4,
   "id": "4470f893-e609-43db-9542-141da7620662",
   "metadata": {},
   "outputs": [
    {
     "name": "stdout",
     "output_type": "stream",
     "text": [
      "{'__header__': b'MATLAB 5.0 MAT-file Platform: nt, Created on: Sun Nov 10 18:29:40 2024', '__version__': '1.0', '__globals__': [], 'vec': array([[ 0,  1,  2,  3,  4,  5,  6,  7,  8,  9, 10]])}\n"
     ]
    }
   ],
   "source": [
    "# loadmat()\n",
    "\n",
    "arr = np.array([0, 1, 2, 3, 4, 5, 6, 7, 8, 9, 10])\n",
    "\n",
    "io.savemat('arr.mat', {\"vec\": arr})\n",
    "\n",
    "mydata = io.loadmat('arr.mat')\n",
    "\n",
    "print(mydata)"
   ]
  },
  {
   "cell_type": "code",
   "execution_count": 5,
   "id": "7dedc341-37c4-4255-8efd-06dc46efad14",
   "metadata": {},
   "outputs": [
    {
     "name": "stdout",
     "output_type": "stream",
     "text": [
      "[[ 0  1  2  3  4  5  6  7  8  9 10]]\n"
     ]
    }
   ],
   "source": [
    "print(mydata['vec'])"
   ]
  },
  {
   "cell_type": "code",
   "execution_count": 6,
   "id": "50209bca-3ac1-4920-aa73-47f591de863a",
   "metadata": {},
   "outputs": [
    {
     "name": "stdout",
     "output_type": "stream",
     "text": [
      "[ 0  1  2  3  4  5  6  7  8  9 10]\n"
     ]
    }
   ],
   "source": [
    "mydata = io.loadmat('arr.mat', squeeze_me = True)\n",
    "\n",
    "print(mydata['vec'])"
   ]
  },
  {
   "cell_type": "code",
   "execution_count": null,
   "id": "1aaebe1e-c6f2-43e4-8a46-4d348b78d94a",
   "metadata": {},
   "outputs": [],
   "source": []
  }
 ],
 "metadata": {
  "kernelspec": {
   "display_name": "Python 3 (ipykernel)",
   "language": "python",
   "name": "python3"
  },
  "language_info": {
   "codemirror_mode": {
    "name": "ipython",
    "version": 3
   },
   "file_extension": ".py",
   "mimetype": "text/x-python",
   "name": "python",
   "nbconvert_exporter": "python",
   "pygments_lexer": "ipython3",
   "version": "3.12.6"
  }
 },
 "nbformat": 4,
 "nbformat_minor": 5
}

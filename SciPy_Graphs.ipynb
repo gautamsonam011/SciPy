{
 "cells": [
  {
   "cell_type": "markdown",
   "id": "b898b3a3-aaf9-4d1a-8f74-52aed0ca9b40",
   "metadata": {},
   "source": [
    "# Adjacency Matrix:-"
   ]
  },
  {
   "cell_type": "code",
   "execution_count": 1,
   "id": "07a90e7e-766d-4964-93de-0e7cd32a5dcc",
   "metadata": {},
   "outputs": [
    {
     "name": "stdout",
     "output_type": "stream",
     "text": [
      "(1, array([0, 0, 0]))\n"
     ]
    }
   ],
   "source": [
    "# Connected Components:- \n",
    "\n",
    "import numpy as np\n",
    "from scipy.sparse.csgraph import connected_components\n",
    "from scipy.sparse import csr_matrix\n",
    "\n",
    "arr = np.array([\n",
    "    [0, 1, 2],\n",
    "    [1, 0, 0],\n",
    "    [2, 0, 0]\n",
    "])\n",
    "\n",
    "newarr = csr_matrix(arr)\n",
    "\n",
    "print(connected_components(newarr))"
   ]
  },
  {
   "cell_type": "markdown",
   "id": "e251939d-cc5a-49cf-8c75-1fbc399a668b",
   "metadata": {},
   "source": [
    "# Dijkstra "
   ]
  },
  {
   "cell_type": "code",
   "execution_count": 5,
   "id": "92bad2a2-4eef-48c8-9339-81ac26c95f33",
   "metadata": {},
   "outputs": [
    {
     "name": "stdout",
     "output_type": "stream",
     "text": [
      "(array([0., 1., 2.]), array([-9999,     0,     0]))\n"
     ]
    }
   ],
   "source": [
    "# return_predecessors: boolean (True to return whole path of traversal otherwise False).\n",
    "# indices: index of the element to return all paths from that element only.\n",
    "# limit: max weight of path.\n",
    "\n",
    "import numpy as np\n",
    "from scipy.sparse.csgraph import dijkstra\n",
    "from scipy.sparse import csr_matrix\n",
    "\n",
    "\n",
    "arr = np.array([\n",
    "    [0, 1, 2],\n",
    "    [1, 0, 0],\n",
    "    [2, 0, 0]\n",
    "])\n",
    "\n",
    "newarr = csr_matrix(arr)\n",
    "\n",
    "print(dijkstra(newarr, return_predecessors = True, indices = 0))\n"
   ]
  },
  {
   "cell_type": "markdown",
   "id": "327e61c5-9581-465f-bc62-22b616ff012b",
   "metadata": {},
   "source": [
    "# Floyd Warshall:- "
   ]
  },
  {
   "cell_type": "code",
   "execution_count": 6,
   "id": "426bb962-2171-4391-bf13-532a2e66010b",
   "metadata": {},
   "outputs": [
    {
     "name": "stdout",
     "output_type": "stream",
     "text": [
      "(array([[0., 1., 2.],\n",
      "       [1., 0., 3.],\n",
      "       [2., 3., 0.]]), array([[-9999,     0,     0],\n",
      "       [    1, -9999,     0],\n",
      "       [    2,     0, -9999]]))\n"
     ]
    }
   ],
   "source": [
    "import numpy as np\n",
    "from scipy.sparse.csgraph import floyd_warshall\n",
    "from scipy.sparse import csr_matrix\n",
    "\n",
    "arr = np.array([\n",
    "  [0, 1, 2],\n",
    "  [1, 0, 0],\n",
    "  [2, 0, 0]\n",
    "])\n",
    "\n",
    "newarr = csr_matrix(arr)\n",
    "\n",
    "print(floyd_warshall(newarr, return_predecessors=True))"
   ]
  },
  {
   "cell_type": "markdown",
   "id": "14810936-504b-44ae-b592-65e2f6725adc",
   "metadata": {},
   "source": [
    "# Bellman Ford:- "
   ]
  },
  {
   "cell_type": "code",
   "execution_count": 7,
   "id": "16a2fc31-4a49-4af5-bfb4-d8f9766121aa",
   "metadata": {},
   "outputs": [
    {
     "name": "stdout",
     "output_type": "stream",
     "text": [
      "(array([ 0., -1.,  2.]), array([-9999,     0,     0]))\n"
     ]
    }
   ],
   "source": [
    "import numpy as np\n",
    "from scipy.sparse.csgraph import bellman_ford\n",
    "from scipy.sparse import csr_matrix\n",
    "\n",
    "arr = np.array([\n",
    "  [0, -1, 2],\n",
    "  [1, 0, 0],\n",
    "  [2, 0, 0]\n",
    "])\n",
    "\n",
    "newarr = csr_matrix(arr)\n",
    "\n",
    "print(bellman_ford(newarr, return_predecessors=True, indices=0))"
   ]
  },
  {
   "cell_type": "markdown",
   "id": "9937ddf2-e9bf-4451-b4ae-946bf1dad07e",
   "metadata": {},
   "source": [
    "# Depth first order:- "
   ]
  },
  {
   "cell_type": "code",
   "execution_count": 8,
   "id": "7e54f1ae-bc7f-4255-8c39-44189b8ea65e",
   "metadata": {},
   "outputs": [
    {
     "name": "stdout",
     "output_type": "stream",
     "text": [
      "(array([1, 0, 3, 2]), array([    1, -9999,     1,     0]))\n"
     ]
    }
   ],
   "source": [
    "import numpy as np\n",
    "from scipy.sparse.csgraph import depth_first_order\n",
    "from scipy.sparse import csr_matrix\n",
    "\n",
    "arr = np.array([\n",
    "  [0, 1, 0, 1],\n",
    "  [1, 1, 1, 1],\n",
    "  [2, 1, 1, 0],\n",
    "  [0, 1, 0, 1]\n",
    "])\n",
    "\n",
    "newarr = csr_matrix(arr)\n",
    "\n",
    "print(depth_first_order(newarr, 1))\n"
   ]
  },
  {
   "cell_type": "markdown",
   "id": "70a1d06b-ccff-427f-b42a-54e19e4de266",
   "metadata": {},
   "source": [
    "# Breadth first order:- "
   ]
  },
  {
   "cell_type": "code",
   "execution_count": 9,
   "id": "9205d6eb-d522-42f2-a20d-20451c839a5f",
   "metadata": {},
   "outputs": [
    {
     "name": "stdout",
     "output_type": "stream",
     "text": [
      "(array([1, 0, 2, 3]), array([    1, -9999,     1,     1]))\n"
     ]
    }
   ],
   "source": [
    "import numpy as np\n",
    "from scipy.sparse.csgraph import breadth_first_order\n",
    "from scipy.sparse import csr_matrix\n",
    "\n",
    "arr = np.array([\n",
    "  [0, 1, 0, 1],\n",
    "  [1, 1, 1, 1],\n",
    "  [2, 1, 1, 0],\n",
    "  [0, 1, 0, 1]\n",
    "])\n",
    "\n",
    "newarr = csr_matrix(arr)\n",
    "\n",
    "print(breadth_first_order(newarr, 1))"
   ]
  },
  {
   "cell_type": "code",
   "execution_count": null,
   "id": "fb015e26-4ae2-4a75-8280-a583bf404a1b",
   "metadata": {},
   "outputs": [],
   "source": []
  }
 ],
 "metadata": {
  "kernelspec": {
   "display_name": "Python 3 (ipykernel)",
   "language": "python",
   "name": "python3"
  },
  "language_info": {
   "codemirror_mode": {
    "name": "ipython",
    "version": 3
   },
   "file_extension": ".py",
   "mimetype": "text/x-python",
   "name": "python",
   "nbconvert_exporter": "python",
   "pygments_lexer": "ipython3",
   "version": "3.12.6"
  }
 },
 "nbformat": 4,
 "nbformat_minor": 5
}
